{
  "nbformat": 4,
  "nbformat_minor": 0,
  "metadata": {
    "colab": {
      "provenance": []
    },
    "kernelspec": {
      "name": "python3",
      "display_name": "Python 3"
    },
    "language_info": {
      "name": "python"
    }
  },
  "cells": [
    {
      "cell_type": "code",
      "execution_count": 1,
      "metadata": {
        "colab": {
          "base_uri": "https://localhost:8080/"
        },
        "id": "HiK5aYIHJxTc",
        "outputId": "354e11da-7255-4423-d3b1-d810de92dea6"
      },
      "outputs": [
        {
          "output_type": "stream",
          "name": "stdout",
          "text": [
            "Mounted at /content/drive\n"
          ]
        }
      ],
      "source": [
        "from google.colab import drive\n",
        "drive.mount('/content/drive')"
      ]
    },
    {
      "cell_type": "code",
      "execution_count": 2,
      "metadata": {
        "id": "3OiVGzDoR2qu",
        "collapsed": true,
        "colab": {
          "base_uri": "https://localhost:8080/"
        },
        "outputId": "de2bfeb3-3499-49b6-c5af-3a4986af9c19"
      },
      "outputs": [
        {
          "output_type": "stream",
          "name": "stdout",
          "text": [
            "/content/drive/My Drive\n",
            "'10_Sheely Tira Maharani_Reading Assignment 1.pdf'\n",
            "'13_Logistic Regression.gsheet'\n",
            "'2023-12-27 11-41-31.mkv'\n",
            "'210_220_KELOMPOK 17_2023A_KLASIFIKASI JENIS KELAMIN ULAR.gsheet'\n",
            "'23031554210_Sheely Tira Maharani_23A.png'\n",
            "'23031554210_Sheely Tira Maharani_23A_Tugas 5 dan 6.pdf'\n",
            "'23031554210_Sheely Tira Maharani_Tugas 10.pdf'\n",
            "'23031554210_Sheely Tira Maharani_Tugas Video.mp4'\n",
            "'23031554210_Sheely Tira Maharani_UTS Bahasa Indonesia.pdf'\n",
            "'23031554210_Sheely Tira Maharani_UTS Pancasila.pdf'\n",
            "'23201554210_Sheely Tira M_2023A.pdf'\n",
            "'23201554210_Sheely Tira M_23A.pdf'\n",
            "'23201554210_Sheely Tira Maharani_2023A.pdf'\n",
            "'23201554210_Sheely Tira Maharani_23A.pdf'\n",
            " 7.png\n",
            " 8.png\n",
            " all_imdb_reviews.csv\n",
            " all_imdb_reviews.gsheet\n",
            " all_imdb_reviews.xlsx\n",
            " aspirasi.gsheet\n",
            "'basis data kelompok 5'\n",
            "'CamScanner 03-19-2024 11.21.pdf'\n",
            " Classroom\n",
            "'code_boston_pca&fa.R'\n",
            "'Colab Notebooks'\n",
            "'Conference-template-A4 (7).gdoc'\n",
            " Conference-template-A4.gdoc\n",
            "'DAA tugas 2.gdoc'\n",
            "'data project kelompok 10'\n",
            " dataset_anmul\n",
            " dataset_datmin\n",
            " dataset_pcd\n",
            " datwer\n",
            "'deskripsi poster.gdoc'\n",
            "'Dokumen tanpa judul (1).gdoc'\n",
            "'Dokumen tanpa judul (2).gdoc'\n",
            "'Dokumen tanpa judul (3).gdoc'\n",
            "'Dokumen tanpa judul (4).gdoc'\n",
            "'Dokumen tanpa judul (5).gdoc'\n",
            "'Dokumen tanpa judul.gdoc'\n",
            "'english_cleaned_file_with_sentiment (2).csv'\n",
            " Essay_210.gdoc\n",
            "'Etika AI.gdoc'\n",
            "'flowchart sda.drawio'\n",
            "'Folder tanpa nama'\n",
            " hasil.csv\n",
            " heart_disease_uci.gsheet\n",
            "'hitunglah secara manual hingga bertemu jawabannya.gsheet'\n",
            " IMG_20230909_070104.jpg\n",
            " IMG-20240526-WA0005.jpg\n",
            " improved_emotion_model.h5\n",
            "'Jawaban quiz'\n",
            "'KELOMPOK KID.gdoc'\n",
            "'Kelompok Projek PKN.gdoc'\n",
            " lagu\n",
            "'Laporan Basis Data .gdoc'\n",
            "'Laporan Kelompok 12.gdoc'\n",
            "'Laporan PMD.gdoc'\n",
            "'laporan text pro.gdoc'\n",
            "'Laporan UTS 2025.pdf'\n",
            " Letter_english_cleaned_file.csv\n",
            "'my sertif'\n",
            "'Nama : Sheely Tira Maharani.gdoc'\n",
            "'no 1.png'\n",
            "'no 2.png'\n",
            "'no 3.png'\n",
            "'no 4.png'\n",
            "'no 5.png'\n",
            "'no 9.png'\n",
            " output\n",
            "'Pemaparan Progress_Kelompok 12.gdoc'\n",
            "'Penjelasan Tugas_23031554210_Sheely Tira Maharani .pdf'\n",
            "'Pmd minggu 3.gsheet'\n",
            "'pmd minggu 4.gsheet'\n",
            "'Ppt kid'\n",
            " prepo.csv\n",
            "'preprocessed_reviews_letterboxd (1).csv'\n",
            "'Ramgkum PD minggu 1.gdoc'\n",
            " resume.pdf\n",
            "'Salinan dari laporan text pro.gdoc'\n",
            "'Salinan dari UAS BD 2024.docx'\n",
            " Screenshot_20240526_153236.jpg\n",
            "'Screenshot (81).png'\n",
            "'Screenshot (82).png'\n",
            "'Screenshot (83).png'\n",
            "'Screenshot (84).png'\n",
            "'Screenshot (88).png'\n",
            "'Sheely Tira Maharani_23031554210_Pert7.gdoc'\n",
            "'SIMULASI PENGGUNAAN PROGRAM.gdoc'\n",
            "'statis pertemuan 12.gsheet'\n",
            "'Statistika tugas'\n",
            " streamlit.py\n",
            "'SURAT PERNYATAAN ORISINALITAS KARYA.pdf'\n",
            " svm_emotion_model.pkl\n",
            " TFIDF_reviews_letterboxd.csv\n",
            " train\n",
            " Train.csv\n",
            "'tugas 1 DAA.gdoc'\n",
            "'Tugas 6 dan 7_23031554210_Sheely Tira Maharani .py'\n",
            " tugas6.gsheet\n",
            "'tugas aco, pso, ga.gsheet'\n",
            "'tugas basis data 1.gdoc'\n",
            "'tugas basis data.gdoc'\n",
            "'Tugas IMK minggu ke 1.gdoc'\n",
            "'Tugas Merangkum Webinar'\n",
            "'Tugas minggu ke 3.gdoc'\n",
            "'Tugas minggu ke 3.pdf'\n",
            "'Tugas PMD minggu 2.gsheet'\n",
            "'tugas praktikum 3_Sheely Tira Maharani_23031554210.py'\n",
            "'Tugas_Sheely Tira Maharani_210.gdoc'\n",
            "'Untitled document (1).gdoc'\n",
            "'Untitled document (2).gdoc'\n",
            "'Untitled document (3).gdoc'\n",
            "'Untitled document.gdoc'\n",
            "'Untitled document.pdf'\n",
            "'Untitled spreadsheet (1).gsheet'\n",
            "'Untitled spreadsheet (2).gsheet'\n",
            "'Untitled spreadsheet (3).gsheet'\n",
            "'Untitled spreadsheet (4).gsheet'\n",
            "'Untitled spreadsheet (5).gsheet'\n",
            "'Untitled spreadsheet (6).gsheet'\n",
            "'Untitled spreadsheet (7).gsheet'\n",
            "'Untitled spreadsheet.gsheet'\n",
            "'User Requirement.gdoc'\n",
            "'UTS BD 2024.gdoc'\n",
            "'UTS Etika AI kasus 1.gdoc'\n",
            "'UTS Etika AI kasus 2.gdoc'\n",
            " Video\n"
          ]
        }
      ],
      "source": [
        "%cd /content/drive/My Drive\n",
        "!ls"
      ]
    },
    {
      "cell_type": "markdown",
      "metadata": {
        "id": "WbYsPwuj-eU5"
      },
      "source": [
        "# Import Libraties/ Functions"
      ]
    },
    {
      "cell_type": "code",
      "execution_count": 8,
      "metadata": {
        "id": "L4yOK4K-1Bjh"
      },
      "outputs": [],
      "source": [
        "import os\n",
        "import numpy as np\n",
        "import cv2\n",
        "import joblib\n",
        "from skimage.feature import local_binary_pattern, hog\n",
        "from sklearn.preprocessing import StandardScaler\n",
        "from sklearn.svm import SVC\n",
        "from sklearn.metrics import classification_report, accuracy_score\n",
        "from sklearn.model_selection import train_test_split"
      ]
    },
    {
      "cell_type": "markdown",
      "metadata": {
        "id": "QIt_obba-lir"
      },
      "source": [
        "# Import Dataset"
      ]
    },
    {
      "cell_type": "code",
      "execution_count": 16,
      "metadata": {
        "id": "P6vupcIrTHts"
      },
      "outputs": [],
      "source": [
        "train_dir = \"/content/drive/MyDrive/dataset_pcd/train\"\n",
        "test_dir = \"/content/drive/MyDrive/dataset_pcd/test\""
      ]
    },
    {
      "cell_type": "code",
      "source": [
        "def load_dataset(root_dir):\n",
        "    X, y = [], []\n",
        "    for label in sorted(os.listdir(root_dir)):\n",
        "        class_dir = os.path.join(root_dir, label)\n",
        "        if not os.path.isdir(class_dir):\n",
        "            continue\n",
        "        for f in os.listdir(class_dir):\n",
        "            path = os.path.join(class_dir, f)\n",
        "            try:\n",
        "                feat = extract_features(path)\n",
        "                X.append(feat)\n",
        "                y.append(label)\n",
        "            except Exception as e:\n",
        "                print(f\"Skip {path}: {e}\")\n",
        "    print(f\"Loaded {len(X)} samples from {root_dir}\")\n",
        "    return np.array(X, dtype=\"float32\"), np.array(y)"
      ],
      "metadata": {
        "id": "OU7K0ggdirJL"
      },
      "execution_count": 17,
      "outputs": []
    },
    {
      "cell_type": "markdown",
      "source": [
        "# Ekstraksi Fitur"
      ],
      "metadata": {
        "id": "XuvYgx1oLnol"
      }
    },
    {
      "cell_type": "code",
      "source": [
        "radius = 1\n",
        "n_points = 8 * radius\n",
        "METHOD = 'uniform'\n"
      ],
      "metadata": {
        "id": "JQnOKBFvLp6R"
      },
      "execution_count": 18,
      "outputs": []
    },
    {
      "cell_type": "code",
      "source": [
        "def extract_lbp(image):\n",
        "    lbp = local_binary_pattern(image, n_points, radius, METHOD)\n",
        "    (hist, _) = np.histogram(lbp.ravel(),\n",
        "                             bins=np.arange(0, n_points + 3),\n",
        "                             range=(0, n_points + 2))\n",
        "    hist = hist.astype(\"float\")\n",
        "    hist /= (hist.sum() + 1e-6)\n",
        "    return hist"
      ],
      "metadata": {
        "id": "BkAzWTrU4gFV"
      },
      "execution_count": 19,
      "outputs": []
    },
    {
      "cell_type": "code",
      "source": [
        "def extract_hog(image):\n",
        "    features = hog(image, orientations=9, pixels_per_cell=(8, 8),\n",
        "                   cells_per_block=(2, 2), block_norm='L2-Hys', transform_sqrt=True)\n",
        "    return features"
      ],
      "metadata": {
        "id": "1fcD7C3J4mCQ"
      },
      "execution_count": 20,
      "outputs": []
    },
    {
      "cell_type": "code",
      "source": [
        "def extract_features(img_path):\n",
        "    img = cv2.imread(img_path)\n",
        "    if img is None:\n",
        "        raise ValueError(f\"Image {img_path} could not be read.\")\n",
        "    gray = cv2.cvtColor(img, cv2.COLOR_BGR2GRAY)\n",
        "    gray = cv2.resize(gray, (48, 48))\n",
        "    lbp_feat = extract_lbp(gray)\n",
        "    hog_feat = extract_hog(gray)\n",
        "    return np.hstack([lbp_feat, hog_feat])"
      ],
      "metadata": {
        "id": "5Sh-dmxX4oeA"
      },
      "execution_count": 21,
      "outputs": []
    },
    {
      "cell_type": "markdown",
      "source": [
        "# Load Dataset"
      ],
      "metadata": {
        "id": "2b556Q9XMIEu"
      }
    },
    {
      "cell_type": "code",
      "source": [
        "X_train, y_train = load_dataset(train_dir)\n",
        "X_test, y_test = load_dataset(test_dir)"
      ],
      "metadata": {
        "id": "Y0dl53pgL4gv",
        "colab": {
          "base_uri": "https://localhost:8080/"
        },
        "outputId": "a6eda728-1f6d-4db2-c8af-d5c909f7b7e7"
      },
      "execution_count": 22,
      "outputs": [
        {
          "output_type": "stream",
          "name": "stdout",
          "text": [
            "Loaded 28749 samples from /content/drive/MyDrive/dataset_pcd/train\n",
            "Loaded 7188 samples from /content/drive/MyDrive/dataset_pcd/test\n"
          ]
        }
      ]
    },
    {
      "cell_type": "markdown",
      "source": [
        "# Standarisasi Fitur"
      ],
      "metadata": {
        "id": "qG_vhTac5NCk"
      }
    },
    {
      "cell_type": "code",
      "source": [
        "scaler = StandardScaler()\n",
        "X_train = scaler.fit_transform(X_train)\n",
        "X_test = scaler.transform(X_test)\n"
      ],
      "metadata": {
        "id": "GtRY6I4t5M2D"
      },
      "execution_count": 23,
      "outputs": []
    },
    {
      "cell_type": "markdown",
      "source": [
        "# Model SVM"
      ],
      "metadata": {
        "id": "PsbGu-aO5is8"
      }
    },
    {
      "cell_type": "code",
      "source": [
        "svm_model = SVC(kernel='rbf', C=10, gamma=0.001)\n",
        "svm_model.fit(X_train, y_train)"
      ],
      "metadata": {
        "id": "NjDKldne5iai"
      },
      "execution_count": null,
      "outputs": []
    },
    {
      "cell_type": "code",
      "source": [
        "y_pred = svm_model.predict(X_test)\n",
        "print(\"Accuracy:\", accuracy_score(y_test, y_pred))\n",
        "print(\"Classification Report:\\n\", classification_report(y_test, y_pred))\n"
      ],
      "metadata": {
        "id": "ZVIVWlSw5diC"
      },
      "execution_count": null,
      "outputs": []
    },
    {
      "cell_type": "code",
      "source": [
        "joblib.dump(svm_model, \"svm_model.joblib\")\n",
        "joblib.dump(scaler, \"scaler.joblib\")\n",
        "print(\"Model dan scaler berhasil disimpan.\")\n"
      ],
      "metadata": {
        "id": "rLYDiGP3MLTo"
      },
      "execution_count": null,
      "outputs": []
    },
    {
      "cell_type": "code",
      "source": [],
      "metadata": {
        "id": "js7rS9RYqClo"
      },
      "execution_count": null,
      "outputs": []
    }
  ]
}